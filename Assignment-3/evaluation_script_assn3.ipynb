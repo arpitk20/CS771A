{
  "cells": [
    {
      "cell_type": "code",
      "execution_count": 13,
      "metadata": {
        "id": "FTY1xcLbZrtp"
      },
      "outputs": [],
      "source": [
        "from test import my_predict\n",
        "import numpy as np\n",
        "import pandas as pd\n",
        "import time as tm\n",
        "import os"
      ]
    },
    {
      "cell_type": "code",
      "execution_count": 14,
      "metadata": {
        "id": "TSa-d6ZXZz4G"
      },
      "outputs": [
        {
          "name": "stdout",
          "output_type": "stream",
          "text": [
            "The autoreload extension is already loaded. To reload it, use:\n",
            "  %reload_ext autoreload\n"
          ]
        }
      ],
      "source": [
        "%load_ext autoreload\n",
        "%autoreload 2"
      ]
    },
    {
      "cell_type": "code",
      "execution_count": 15,
      "metadata": {
        "colab": {
          "base_uri": "https://localhost:8080/",
          "height": 664
        },
        "id": "wXxob63qZ0nJ",
        "outputId": "1482ec43-56ab-4aa2-ff18-cce76433df56"
      },
      "outputs": [],
      "source": [
        "df_test = pd.read_csv( \"dummy_test.csv\" )\n",
        "\n",
        "n_trials = 5\n",
        "t_test = 0\n",
        "\n",
        "for t in range( n_trials ):\n",
        "  tic = tm.perf_counter()\n",
        "  df_feat = df_test.drop( [ \"OZONE\", \"NO2\" ], axis = \"columns\" )\n",
        "  ( pred_o3, pred_no2 ) = my_predict( df_feat )\n",
        "  toc = tm.perf_counter()\n",
        "  t_test += toc - tic\n",
        "\n",
        "t_test /= n_trials"
      ]
    },
    {
      "cell_type": "code",
      "execution_count": 16,
      "metadata": {
        "id": "qtKmkybMbrvu"
      },
      "outputs": [
        {
          "name": "stdout",
          "output_type": "stream",
          "text": [
            "0.00823230739988503 0.0298346 0.021412800000000003\n"
          ]
        }
      ],
      "source": [
        "gold_o3 = df_test[ \"OZONE\" ].to_numpy()\n",
        "gold_no2 = df_test[ \"NO2\" ].to_numpy()\n",
        "\n",
        "mae_o3 = np.mean( np.abs( pred_o3 - gold_o3 ) )\n",
        "mae_no2 = np.mean( np.abs( pred_no2 - gold_no2 ) )\n",
        "\n",
        "print( t_test, mae_o3, mae_no2 )"
      ]
    }
  ],
  "metadata": {
    "colab": {
      "provenance": []
    },
    "kernelspec": {
      "display_name": "Python 3",
      "language": "python",
      "name": "python3"
    },
    "language_info": {
      "codemirror_mode": {
        "name": "ipython",
        "version": 3
      },
      "file_extension": ".py",
      "mimetype": "text/x-python",
      "name": "python",
      "nbconvert_exporter": "python",
      "pygments_lexer": "ipython3",
      "version": "3.8.10"
    },
    "vscode": {
      "interpreter": {
        "hash": "916dbcbb3f70747c44a77c7bcd40155683ae19c65e1c03b4aa3499c5328201f1"
      }
    }
  },
  "nbformat": 4,
  "nbformat_minor": 0
}
